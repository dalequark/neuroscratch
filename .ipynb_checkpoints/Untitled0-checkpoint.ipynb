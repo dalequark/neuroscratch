{
 "metadata": {
  "name": "",
  "signature": "sha256:ef0ba0093c7dd3313c4dbde624ecc2cfc1a851e82e47f6ba72fb355b833a4d45"
 },
 "nbformat": 3,
 "nbformat_minor": 0,
 "worksheets": [
  {
   "cells": [
    {
     "cell_type": "code",
     "collapsed": false,
     "input": [
      "#!/usr/bin/env python\n",
      "\n",
      "import socket\n",
      "import threading\n",
      "import random\n",
      "import time\n",
      "\n",
      "eegdata = \" \".join([str(random.uniform(0, 400)) for r in xrange(14)])\n",
      "\n",
      "host = '127.0.0.1'\n",
      "port = 6789\n",
      "backlog = 5\n",
      "client = None\n",
      "size = 10\n",
      "eegDataQueue = []\n",
      "killThread = False\n",
      "\n",
      "s = socket.socket(socket.AF_INET, socket.SOCK_STREAM)\n",
      "s.setsockopt(socket.SOL_SOCKET, socket.SO_REUSEADDR, 1)\n",
      "\n",
      "s.bind((host, port))\n",
      "s.listen(backlog)\n",
      "print \"Running on \"\n",
      "print (host, port)\n",
      "dataBuffer = \"\""
     ],
     "language": "python",
     "metadata": {},
     "outputs": [
      {
       "output_type": "stream",
       "stream": "stdout",
       "text": [
        "Running on \n",
        "('127.0.0.1', 6789)\n"
       ]
      }
     ],
     "prompt_number": 18
    },
    {
     "cell_type": "code",
     "collapsed": false,
     "input": [
      "client, address = s.accept()"
     ],
     "language": "python",
     "metadata": {},
     "outputs": [],
     "prompt_number": 16
    },
    {
     "cell_type": "code",
     "collapsed": false,
     "input": [
      "client.send('hello')"
     ],
     "language": "python",
     "metadata": {},
     "outputs": [
      {
       "metadata": {},
       "output_type": "pyout",
       "prompt_number": 13,
       "text": [
        "5"
       ]
      }
     ],
     "prompt_number": 13
    },
    {
     "cell_type": "code",
     "collapsed": false,
     "input": [
      "data = client.recv(1024)"
     ],
     "language": "python",
     "metadata": {},
     "outputs": [],
     "prompt_number": 6
    },
    {
     "cell_type": "code",
     "collapsed": false,
     "input": [
      "data"
     ],
     "language": "python",
     "metadata": {},
     "outputs": [
      {
       "metadata": {},
       "output_type": "pyout",
       "prompt_number": 8,
       "text": [
        "'goodbetterbest\\r\\n'"
       ]
      }
     ],
     "prompt_number": 8
    },
    {
     "cell_type": "code",
     "collapsed": false,
     "input": [
      "\n",
      "while 1:\n",
      "    if not client:\n",
      "        client, address = s.accept()\n",
      "        print \"Got Client\"\n",
      "    data = client.recv(size)\n",
      "    #embed()\n",
      "    if data:\n",
      "        print \"Got data \"\n",
      "        print data\n",
      "        if \"build\" in data:\n",
      "            print \"Building model at time \" + time.ctime()\n",
      "            time.sleep(100)\n",
      "            print \"Done building at time \" + time.ctime()\n",
      "            client.send(\"done1\")\n",
      "        elif \"show\" in data:\n",
      "            print \"Current data is \"\n",
      "            for data in eegDataQueue:\n",
      "                print data\n",
      "            client.send(\"done2\")\n",
      "        else:\n",
      "            print \"Adding data to queue\"\n",
      "            eegDataQueue.append(data)\n",
      "        print \"about to send ok\"\n",
      "        client.send('ok')\n",
      "        print \"returned from send ok\"\n"
     ],
     "language": "python",
     "metadata": {},
     "outputs": [
      {
       "output_type": "stream",
       "stream": "stdout",
       "text": [
        "Got Client\n",
        "Got data "
       ]
      },
      {
       "output_type": "stream",
       "stream": "stdout",
       "text": [
        "\n",
        "hi\r\n",
        "\n",
        "Adding data to queue\n",
        "about to send ok\n",
        "returned from send ok\n",
        "Got data "
       ]
      },
      {
       "output_type": "stream",
       "stream": "stdout",
       "text": [
        "\n",
        "hi\r\n",
        "\n",
        "Adding data to queue\n",
        "about to send ok\n",
        "returned from send ok\n"
       ]
      },
      {
       "ename": "KeyboardInterrupt",
       "evalue": "",
       "output_type": "pyerr",
       "traceback": [
        "\u001b[0;31m---------------------------------------------------------------------------\u001b[0m\n\u001b[0;31mKeyboardInterrupt\u001b[0m                         Traceback (most recent call last)",
        "\u001b[0;32m<ipython-input-19-adca0c90aa81>\u001b[0m in \u001b[0;36m<module>\u001b[0;34m()\u001b[0m\n\u001b[1;32m      4\u001b[0m         \u001b[0mclient\u001b[0m\u001b[0;34m,\u001b[0m \u001b[0maddress\u001b[0m \u001b[0;34m=\u001b[0m \u001b[0ms\u001b[0m\u001b[0;34m.\u001b[0m\u001b[0maccept\u001b[0m\u001b[0;34m(\u001b[0m\u001b[0;34m)\u001b[0m\u001b[0;34m\u001b[0m\u001b[0m\n\u001b[1;32m      5\u001b[0m         \u001b[0;32mprint\u001b[0m \u001b[0;34m\"Got Client\"\u001b[0m\u001b[0;34m\u001b[0m\u001b[0m\n\u001b[0;32m----> 6\u001b[0;31m     \u001b[0mdata\u001b[0m \u001b[0;34m=\u001b[0m \u001b[0mclient\u001b[0m\u001b[0;34m.\u001b[0m\u001b[0mrecv\u001b[0m\u001b[0;34m(\u001b[0m\u001b[0msize\u001b[0m\u001b[0;34m)\u001b[0m\u001b[0;34m\u001b[0m\u001b[0m\n\u001b[0m\u001b[1;32m      7\u001b[0m     \u001b[0;31m#embed()\u001b[0m\u001b[0;34m\u001b[0m\u001b[0;34m\u001b[0m\u001b[0m\n\u001b[1;32m      8\u001b[0m     \u001b[0;32mif\u001b[0m \u001b[0mdata\u001b[0m\u001b[0;34m:\u001b[0m\u001b[0;34m\u001b[0m\u001b[0m\n",
        "\u001b[0;31mKeyboardInterrupt\u001b[0m: "
       ]
      }
     ],
     "prompt_number": 19
    },
    {
     "cell_type": "code",
     "collapsed": false,
     "input": [],
     "language": "python",
     "metadata": {},
     "outputs": []
    }
   ],
   "metadata": {}
  }
 ]
}