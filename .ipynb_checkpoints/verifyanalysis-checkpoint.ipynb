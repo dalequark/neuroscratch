{
 "metadata": {
  "name": "",
  "signature": "sha256:72e2a5923909cfa142f2955acae34ba05172399fe99e163418ce60469a20bc6b"
 },
 "nbformat": 3,
 "nbformat_minor": 0,
 "worksheets": [
  {
   "cells": [
    {
     "cell_type": "code",
     "collapsed": false,
     "input": [
      "import numpy as np\n",
      "from parseEEGRaw import *"
     ],
     "language": "python",
     "metadata": {},
     "outputs": [],
     "prompt_number": 1
    },
    {
     "cell_type": "code",
     "collapsed": false,
     "input": [
      "eegfile = 'participant_data/eeg/eeg_8_2015.03.23.12.30'\n",
      "logfile = 'participant_data/log/journal_8_2015.03.23.12.30'"
     ],
     "language": "python",
     "metadata": {},
     "outputs": [],
     "prompt_number": 240
    },
    {
     "cell_type": "code",
     "collapsed": false,
     "input": [
      "%matplotlib inline\n",
      "from matplotlib import pyplot as plt"
     ],
     "language": "python",
     "metadata": {},
     "outputs": [],
     "prompt_number": 128
    },
    {
     "cell_type": "code",
     "collapsed": false,
     "input": [
      "from sklearn import linear_model\n",
      "from scipy import stats"
     ],
     "language": "python",
     "metadata": {},
     "outputs": [],
     "prompt_number": 160
    },
    {
     "cell_type": "code",
     "collapsed": false,
     "input": [
      "journal = Journal(logfile)\n",
      "eegdata = parseToArray(eegfile)\n",
      "data = EEGData(journal, eegdata)\n",
      "millis_len = 100\n",
      "points_per_bucket = int(ceil(128 * 0.001 * millis_len))\n",
      "buckets_per_trial = int(ceil(128 / points_per_bucket))\n",
      "before_avg_interval_millis = 80\n",
      "points_before_trial = 128 * 0.001 * before_avg_interval_millis\n",
      "g_accuracies = []\n",
      "back_stretch = 5\n",
      "train_feat = []\n",
      "train_lab = []\n",
      "\n",
      "\n",
      "for idx, (epoch, label) in enumerate(zip(data.epochs[:2], journal.epochType[:2])):\n",
      "    trials = np.array_split(epoch, 5)\n",
      "\n",
      "    for trialNum, trial in enumerate(trials):\n",
      "        trial_dat = np.array(trial)[points_per_bucket:2*points_per_bucket, :]\n",
      "        if trialNum > 0:\n",
      "            trial_before = np.array(trials[trialNum - 1][-1 * points_before_trial:, :])\n",
      "            trial_before = np.mean(trial_before, axis=0)\n",
      "            trial_dat -= trial_before\n",
      "        trial_dat = trial_dat.mean(axis=0)\n",
      "        trial_dat = stats.zscore(trial_dat)\n",
      "        train_feat.append(trial_dat)\n",
      "        train_lab.append(label)\n",
      "\n",
      "# learn model\n",
      "cnf = linear_model.LogisticRegression()\n",
      "cnf.fit(train_feat, train_lab)\n",
      "print cnf.coef_"
     ],
     "language": "python",
     "metadata": {},
     "outputs": [
      {
       "output_type": "stream",
       "stream": "stdout",
       "text": [
        "[[-0.39872453 -0.2460436  -0.24518994  0.75537887 -0.12602593  0.43941843\n",
        "   0.29569301  0.13351517 -0.07468909  0.27739703  0.15983466 -0.21497154\n",
        "  -0.12788576 -0.62770678]]\n"
       ]
      }
     ],
     "prompt_number": 241
    },
    {
     "cell_type": "code",
     "collapsed": false,
     "input": [
      "cnf.predict_proba"
     ],
     "language": "python",
     "metadata": {},
     "outputs": []
    },
    {
     "cell_type": "code",
     "collapsed": false,
     "input": [
      "cnf.predict_proba(data.epochs[2][1])"
     ],
     "language": "python",
     "metadata": {},
     "outputs": [
      {
       "metadata": {},
       "output_type": "pyout",
       "prompt_number": 232,
       "text": [
        "array([[  1.00000000e+00,   5.07263134e-40]])"
       ]
      }
     ],
     "prompt_number": 232
    },
    {
     "cell_type": "code",
     "collapsed": false,
     "input": [
      "points_per_bucket = 12\n",
      "for epoch, epochType, epochOnset in zip(data.epochs[2:], journal.epochType[2:], journal.epochOnset[2:]):\n",
      "    trials = np.array_split(epoch, 5)\n",
      "    oldAvg = 0.5\n",
      "    for i,trial in enumerate(trials):\n",
      "        if i < 3:\n",
      "            oldAvg = 0.5\n",
      "            print 0.5\n",
      "        else:\n",
      "            print \"Onset, \", (epochOnset[i-3] + 100)\n",
      "            score = cnf.predict_proba(stats.zscore(trials[i-3][points_per_bucket:points_per_bucket*2,:].mean(axis=0)))#cnf.predict_proba(stats.zscore(np.array(trials[i-3])[points_per_bucket:points_per_bucket*2,:].mean(axis=0)))[0][0]\n",
      "            oldAvg = score/6.0 + oldAvg*5/6.0\n",
      "            print score"
     ],
     "language": "python",
     "metadata": {},
     "outputs": [
      {
       "output_type": "stream",
       "stream": "stdout",
       "text": [
        "0.5\n",
        "0.5\n",
        "0.5\n",
        "Onset,  1427128254198\n",
        "[[ 0.44444059  0.55555941]]\n",
        "Onset,  1427128255200\n",
        "[[ 0.50085741  0.49914259]]\n",
        "0.5\n",
        "0.5\n",
        "0.5\n",
        "Onset,  1427128260287\n",
        "[[ 0.50107918  0.49892082]]\n",
        "Onset,  1427128261288\n",
        "[[ 0.50153857  0.49846143]]\n"
       ]
      }
     ],
     "prompt_number": 242
    },
    {
     "cell_type": "code",
     "collapsed": false,
     "input": [
      "journal.epochOnset[2]"
     ],
     "language": "python",
     "metadata": {},
     "outputs": [
      {
       "metadata": {},
       "output_type": "pyout",
       "prompt_number": 221,
       "text": [
        "[1427124594818L, 1427124595819L, 1427124596820L]"
       ]
      }
     ],
     "prompt_number": 221
    },
    {
     "cell_type": "code",
     "collapsed": false,
     "input": [
      "idxs = np.intersect1d(idx1[0], idx2[0])"
     ],
     "language": "python",
     "metadata": {},
     "outputs": [],
     "prompt_number": 207
    },
    {
     "cell_type": "code",
     "collapsed": false,
     "input": [
      "cnf.predict_proba(stats.zscore(np.array(trials[i-3])[points_per_bucket:points_per_bucket*2,:].mean(axis=0)))"
     ],
     "language": "python",
     "metadata": {},
     "outputs": [
      {
       "metadata": {},
       "output_type": "pyout",
       "prompt_number": 213,
       "text": [
        "array([[ 0.42626793,  0.57373207]])"
       ]
      }
     ],
     "prompt_number": 213
    },
    {
     "cell_type": "code",
     "collapsed": false,
     "input": [
      "stats.zscore(np.array(trials[i-3])[points_per_bucket:points_per_bucket*2,:].mean(axis=0))"
     ],
     "language": "python",
     "metadata": {},
     "outputs": [
      {
       "metadata": {},
       "output_type": "pyout",
       "prompt_number": 215,
       "text": [
        "array([-1.91120625, -0.17802027,  0.52720713, -1.30324031,  0.49675152,\n",
        "        1.72496391,  0.83176319,  0.18335351,  0.70437361, -1.70047311,\n",
        "        0.15027807,  0.58075005,  0.51165185, -0.6181529 ])"
       ]
      }
     ],
     "prompt_number": 215
    },
    {
     "cell_type": "code",
     "collapsed": false,
     "input": [
      "cnf.predict_proba([ 3921.62393162,  4341.02564103,  4509.23076923,  4067.77777778,\n",
      "        4502.86324786,  4797.43589744,  4582.56410256,  4425.64102564,\n",
      "        4550.76923077,  3972.82051282,  4419.48717949,  4522.05128205,\n",
      "        4505.12820513,  4233.33333333])"
     ],
     "language": "python",
     "metadata": {},
     "outputs": [
      {
       "metadata": {},
       "output_type": "pyout",
       "prompt_number": 224,
       "text": [
        "array([[ 0.,  1.]])"
       ]
      }
     ],
     "prompt_number": 224
    },
    {
     "cell_type": "code",
     "collapsed": false,
     "input": [
      "%matplotlib inline"
     ],
     "language": "python",
     "metadata": {},
     "outputs": [],
     "prompt_number": 243
    },
    {
     "cell_type": "code",
     "collapsed": false,
     "input": [
      "import math"
     ],
     "language": "python",
     "metadata": {},
     "outputs": [],
     "prompt_number": 244
    },
    {
     "cell_type": "code",
     "collapsed": false,
     "input": [
      "def sigmoid(x, steepness, gain, x_shift, y_shift):\n",
      "    if type(x) == int:\n",
      "        return float(steepness)/(1 + math.exp(-gain*(x - x_shift))) + y_shift\n",
      "    else:\n",
      "        return [float(steepness)/(1 + math.exp(-gain*(x1 - x_shift))) + y_shift for x1 in x]"
     ],
     "language": "python",
     "metadata": {},
     "outputs": [],
     "prompt_number": 275
    },
    {
     "cell_type": "code",
     "collapsed": false,
     "input": [
      "x = np.arange(-1, 1, 0.01)"
     ],
     "language": "python",
     "metadata": {},
     "outputs": [],
     "prompt_number": 279
    },
    {
     "cell_type": "code",
     "collapsed": false,
     "input": [
      "plt.plot(x, sigmoid(x,0.9,3,0.2, 0.15))"
     ],
     "language": "python",
     "metadata": {},
     "outputs": [
      {
       "metadata": {},
       "output_type": "pyout",
       "prompt_number": 280,
       "text": [
        "[<matplotlib.lines.Line2D at 0x10e9cf990>]"
       ]
      },
      {
       "metadata": {},
       "output_type": "display_data",
       "png": "[encoded data removed]",
       "text": [
        "<matplotlib.figure.Figure at 0x10e9eea50>"
       ]
      }
     ],
     "prompt_number": 280
    },
    {
     "cell_type": "code",
     "collapsed": false,
     "input": [
      "sigmoid(1,3,0.9,0.2, 0.15)"
     ],
     "language": "python",
     "metadata": {},
     "outputs": [
      {
       "metadata": {},
       "output_type": "pyout",
       "prompt_number": 273,
       "text": [
        "2.1678210512032816"
       ]
      }
     ],
     "prompt_number": 273
    },
    {
     "cell_type": "code",
     "collapsed": false,
     "input": [],
     "language": "python",
     "metadata": {},
     "outputs": []
    }
   ],
   "metadata": {}
  }
 ]
}